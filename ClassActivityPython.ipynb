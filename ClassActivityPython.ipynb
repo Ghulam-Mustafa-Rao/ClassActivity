{
  "nbformat": 4,
  "nbformat_minor": 0,
  "metadata": {
    "colab": {
      "provenance": []
    },
    "kernelspec": {
      "name": "python3",
      "display_name": "Python 3"
    },
    "language_info": {
      "name": "python"
    }
  },
  "cells": [
    {
      "cell_type": "markdown",
      "source": [
        "**1. Largest Difference in List**"
      ],
      "metadata": {
        "id": "UybB4sLxYm5B"
      }
    },
    {
      "cell_type": "code",
      "execution_count": null,
      "metadata": {
        "colab": {
          "base_uri": "https://localhost:8080/"
        },
        "id": "QvurvhDfO1Yw",
        "outputId": "62000ed9-831a-42e4-8617-ef607896256c"
      },
      "outputs": [
        {
          "output_type": "stream",
          "name": "stdout",
          "text": [
            " The largest difference is between 1 and 110,which is 109\n"
          ]
        }
      ],
      "source": [
        "#\n",
        "inputList = [1, 2, 90, 10, 110]\n",
        "\n",
        "v1=0\n",
        "v2=0\n",
        "maxDiff=0\n",
        "for i in range(0,len(inputList)-1):\n",
        "  for j in range(i,len(inputList)):\n",
        "    if ( abs(inputList[i]-inputList[j]) > maxDiff):\n",
        "      maxDiff = abs(inputList[i]-inputList[j])\n",
        "      v1= inputList[i]\n",
        "      v2=inputList[j]\n",
        "\n",
        "print(f\" The largest difference is between {v1} and {v2},which is {maxDiff}\")"
      ]
    },
    {
      "cell_type": "markdown",
      "source": [
        "**2. First Non-Repeating Character**"
      ],
      "metadata": {
        "id": "wmYRMZ-UYptI"
      }
    },
    {
      "cell_type": "code",
      "source": [
        "\n",
        "def FirstNonRepeatingCharacter(input):\n",
        "  isNonReapeating =True\n",
        "  for i in range(len(input)):\n",
        "        isNonReapeating = True\n",
        "        for j in range(len(input)):\n",
        "            if (i != j and input[i] == input[j]):\n",
        "                isNonReapeating = False\n",
        "                break\n",
        "        if (isNonReapeating):\n",
        "            return input[i]\n",
        "  return None\n",
        "\n",
        "print(\"This first non repeating character is : \",FirstNonRepeatingCharacter(\"aabcc\"))\n"
      ],
      "metadata": {
        "colab": {
          "base_uri": "https://localhost:8080/"
        },
        "id": "3o3Ng3ckRph5",
        "outputId": "f14f08ed-dcac-4102-dcd3-e70c064525d8"
      },
      "execution_count": null,
      "outputs": [
        {
          "output_type": "stream",
          "name": "stdout",
          "text": [
            "b\n"
          ]
        }
      ]
    },
    {
      "cell_type": "markdown",
      "source": [
        "**3. Check If Strings Are Permutations**"
      ],
      "metadata": {
        "id": "KJES6rjNYq8w"
      }
    },
    {
      "cell_type": "code",
      "source": [
        "#To Check permutation\n",
        "def CheckPermutations(v1,v2):\n",
        "  dict1={}\n",
        "  dict2={}\n",
        "  for i in range(len(v1)):\n",
        "    if ( dict1.get(v1[i])):\n",
        "      dict1[v1[i]]+=1\n",
        "    else:\n",
        "      dict1[v1[i]] =1\n",
        "  for i in range(len(v2)):\n",
        "    if ( dict2.get(v2[i])):\n",
        "      dict2[v2[i]]+=1\n",
        "    else:\n",
        "      dict2[v2[i]] =1\n",
        "\n",
        "  return dict1 == dict2\n",
        "\n",
        "\n",
        "print(CheckPermutations(\"abc\",\"bca\"))\n"
      ],
      "metadata": {
        "colab": {
          "base_uri": "https://localhost:8080/"
        },
        "id": "EZSX2bkUTfbI",
        "outputId": "1ee7da05-6972-4a35-ae47-2e84bae9bf2f"
      },
      "execution_count": null,
      "outputs": [
        {
          "output_type": "stream",
          "name": "stdout",
          "text": [
            "True\n"
          ]
        }
      ]
    },
    {
      "cell_type": "markdown",
      "source": [
        "**4. Find the Second Largest Unique Number**"
      ],
      "metadata": {
        "id": "gF1Nnbq1YsVH"
      }
    },
    {
      "cell_type": "code",
      "source": [
        "inputListOfNumbers= [4, 5, 6, 6, 7]\n",
        "\n",
        "def FindtheSecondLargestUniqueNumber(input):\n",
        "  uniqueNumbers = set(input)\n",
        "  largest=0\n",
        "  secondLargest=0\n",
        "  for x in uniqueNumbers:\n",
        "        if x > largest:\n",
        "            secondLargest = largest\n",
        "            largest = x\n",
        "        elif x > secondLargest:\n",
        "            secondLargest = x\n",
        "\n",
        "  return secondLargest\n",
        "\n",
        "print(\"The second largest unique number is\",FindtheSecondLargestUniqueNumber(inputListOfNumbers))\n"
      ],
      "metadata": {
        "colab": {
          "base_uri": "https://localhost:8080/"
        },
        "id": "mdveaWCwVS0Y",
        "outputId": "caae8a3e-06fc-46ad-d9c4-334a78c01d4f"
      },
      "execution_count": null,
      "outputs": [
        {
          "output_type": "stream",
          "name": "stdout",
          "text": [
            "The second largest unique number is 6\n"
          ]
        }
      ]
    },
    {
      "cell_type": "markdown",
      "source": [
        "**5. Count Distinct Pairs Problem:** Given a list of integers and a target sum, count how many distinct pairs of integers in the list sum up to the target."
      ],
      "metadata": {
        "id": "g3DpUnB2W_Sp"
      }
    },
    {
      "cell_type": "code",
      "source": [
        "nums = [1, 2, 3, 4, 3, 6]\n",
        "target = 6\n",
        "\n",
        "seen = set()\n",
        "pairs = set()\n",
        "\n",
        "for num in nums:\n",
        "    complement = target - num\n",
        "    if complement in seen:\n",
        "        pairs.add(tuple(sorted((num, complement))))\n",
        "    seen.add(num)\n",
        "\n",
        "print(len(pairs))"
      ],
      "metadata": {
        "id": "zai4-b9uWdEp"
      },
      "execution_count": null,
      "outputs": []
    },
    {
      "cell_type": "markdown",
      "source": [
        "**6. Remove Duplicates from List Problem:** Given a list of integers, remove all duplicates while maintaining the order of their first occurrence. Example: Input: [1, 2, 2, 3, 4, 5, 1] Output: [1, 2, 3, 4, 5] Explanation: Duplicates are removed, but the order of elements is preserved."
      ],
      "metadata": {
        "id": "pq6fgrDmXGfI"
      }
    },
    {
      "cell_type": "code",
      "source": [
        "duplicated_nums = [1, 2, 2, 3, 4, 5, 1]\n",
        "unique_num = set()\n",
        "result = []\n",
        "\n",
        "for x in duplicated_nums:\n",
        "    if x not in unique_num:\n",
        "        result.append(x)\n",
        "        unique_num.add(x)\n",
        "\n",
        "print(result)"
      ],
      "metadata": {
        "colab": {
          "base_uri": "https://localhost:8080/"
        },
        "id": "4Dot6cS5XJC4",
        "outputId": "d5537bc7-ab7b-4c45-8e5f-af403b813a11"
      },
      "execution_count": null,
      "outputs": [
        {
          "output_type": "stream",
          "name": "stdout",
          "text": [
            "[1, 2, 3, 4, 5]\n"
          ]
        }
      ]
    },
    {
      "cell_type": "markdown",
      "source": [
        "**7. Subsets of a List Problem:** Given a list of integers, return all possible subsets (the power set) of the list. Example: Input: [1, 2, 3] Output: [[], [1], [2], [3], [1, 2], [1, 3], [2, 3], [1, 2, 3]] Explanation: The function returns all subsets of the list"
      ],
      "metadata": {
        "id": "TiJ20WTwXLXY"
      }
    },
    {
      "cell_type": "code",
      "source": [
        "def subsets(nums):\n",
        "    result = []\n",
        "\n",
        "    def backtrack(start, path):\n",
        "        result.append(path[:])\n",
        "        for i in range(start, len(nums)):\n",
        "            path.append(nums[i])\n",
        "            backtrack(i + 1, path)\n",
        "            path.pop()\n",
        "\n",
        "    backtrack(0, [])\n",
        "    return result\n",
        "\n",
        "\n",
        "print(subsets([1, 2, 3]))"
      ],
      "metadata": {
        "colab": {
          "base_uri": "https://localhost:8080/"
        },
        "id": "bkpBm1S8XKcp",
        "outputId": "53dad64a-c7a4-4754-e151-10254dfe4acc"
      },
      "execution_count": null,
      "outputs": [
        {
          "output_type": "stream",
          "name": "stdout",
          "text": [
            "[[], [1], [1, 2], [1, 2, 3], [1, 3], [2], [2, 3], [3]]\n"
          ]
        }
      ]
    },
    {
      "cell_type": "markdown",
      "source": [
        "**8. Longest Increasing Subsequence**"
      ],
      "metadata": {
        "id": "syg0ffbSXlBQ"
      }
    },
    {
      "cell_type": "code",
      "source": [
        "def longest_seq(lst):\n",
        "    count = 1\n",
        "    for i in range(1, len(lst)):\n",
        "        if lst[i] > lst[i - 1]:\n",
        "            count += 1\n",
        "    return count\n",
        "\n",
        "print(longest_seq([10, 9, 2, 5, 3, 7, 101, 18]))"
      ],
      "metadata": {
        "id": "SlaeKL7rXQII"
      },
      "execution_count": null,
      "outputs": []
    },
    {
      "cell_type": "markdown",
      "source": [
        "**9. Maximum Product of Two Numbers**"
      ],
      "metadata": {
        "id": "0KTolObMXo1Y"
      }
    },
    {
      "cell_type": "code",
      "source": [
        "def max_product(lst):\n",
        "    max_prod = lst[0] * lst[1]\n",
        "    for i in range(len(lst)):\n",
        "        for j in range(i + 1, len(lst)):\n",
        "            prod = lst[i] * lst[j]\n",
        "            if prod > max_prod:\n",
        "                max_prod = prod\n",
        "    return max_prod\n",
        "\n",
        "print(max_product([1, 10, -5, 1, 100]))"
      ],
      "metadata": {
        "colab": {
          "base_uri": "https://localhost:8080/"
        },
        "id": "6g9-s0ShXsco",
        "outputId": "5816fdc0-6844-4862-e493-545c3a3a6375"
      },
      "execution_count": null,
      "outputs": [
        {
          "output_type": "stream",
          "name": "stdout",
          "text": [
            "1000\n"
          ]
        }
      ]
    },
    {
      "cell_type": "markdown",
      "source": [
        "**10. Frequency of Characters in String**"
      ],
      "metadata": {
        "id": "eKaAkmRvXusQ"
      }
    },
    {
      "cell_type": "code",
      "source": [
        "def most_frequent(s):\n",
        "    counts = {}\n",
        "    for char in s:\n",
        "        if char in counts:\n",
        "            counts[char] += 1\n",
        "        else:\n",
        "            counts[char] = 1\n",
        "\n",
        "    max_count = max(counts.values())\n",
        "    for char in sorted(counts):\n",
        "        if counts[char] == max_count:\n",
        "            return char\n",
        "\n",
        "print(most_frequent(\"aabbbc\"))"
      ],
      "metadata": {
        "colab": {
          "base_uri": "https://localhost:8080/"
        },
        "id": "sEU-vzzuXuU4",
        "outputId": "ee60d98d-68b2-4ab6-a873-b8cf3dabb3e7"
      },
      "execution_count": null,
      "outputs": [
        {
          "output_type": "stream",
          "name": "stdout",
          "text": [
            "b\n"
          ]
        }
      ]
    },
    {
      "cell_type": "markdown",
      "source": [
        "**11. Print Prime Numbers Less Than N**"
      ],
      "metadata": {
        "id": "X9PkXUndXzDI"
      }
    },
    {
      "cell_type": "code",
      "source": [
        "def primes(n):\n",
        "    prime_list = []\n",
        "    for num in range(2, n):\n",
        "        is_prime = True\n",
        "        for i in range(2, num):\n",
        "            if num % i == 0:\n",
        "                is_prime = False\n",
        "                break\n",
        "        if is_prime:\n",
        "            prime_list.append(num)\n",
        "    return prime_list\n",
        "\n",
        "print(primes(10))"
      ],
      "metadata": {
        "colab": {
          "base_uri": "https://localhost:8080/"
        },
        "id": "tXpY648jXxho",
        "outputId": "d15e484f-73f6-462b-bdcb-851a6d3068de"
      },
      "execution_count": null,
      "outputs": [
        {
          "output_type": "stream",
          "name": "stdout",
          "text": [
            "[2, 3, 5, 7]\n"
          ]
        }
      ]
    },
    {
      "cell_type": "markdown",
      "source": [
        "**12. Sum of Variable-Length Arguments**"
      ],
      "metadata": {
        "id": "6dslN0fWZ60A"
      }
    },
    {
      "cell_type": "code",
      "source": [
        "def SumAll(*args):\n",
        "  sum=0\n",
        "  for x in args:\n",
        "    sum+=x\n",
        "  return sum\n",
        "\n",
        "print(\"(2, 3, 4) , \",SumAll(2,3,4))"
      ],
      "metadata": {
        "id": "MrGAtELvX1QY",
        "colab": {
          "base_uri": "https://localhost:8080/"
        },
        "outputId": "d855d33c-f5a9-4eaa-a2e9-21d407dd7f97"
      },
      "execution_count": 1,
      "outputs": [
        {
          "output_type": "stream",
          "name": "stdout",
          "text": [
            "(2, 3, 4) ,  9\n"
          ]
        }
      ]
    },
    {
      "cell_type": "markdown",
      "source": [
        "**13. Find the Student with Highest Score**"
      ],
      "metadata": {
        "id": "3HJC0URnZ8vB"
      }
    },
    {
      "cell_type": "code",
      "source": [
        "def StudentwithHighestScore(**kwargs):\n",
        "  studentName = None\n",
        "  highestScore = float('-inf')\n",
        "\n",
        "    # Loop through the dictionary to find the highest score\n",
        "  for student, score in kwargs.items():\n",
        "      if (score > highestScore):\n",
        "        highestScore = score\n",
        "        studentName = student\n",
        "\n",
        "  return studentName\n",
        "\n",
        "\n",
        "print(\"input : 'Alice': 85, 'Bob': 90, 'Charlie': 92 \",)\n",
        "nameOfStudent = StudentwithHighestScore(Alice=85, Bob=90, Charlie=92)\n",
        "print(f\"Student with Highest Score : {nameOfStudent}\")"
      ],
      "metadata": {
        "colab": {
          "base_uri": "https://localhost:8080/"
        },
        "id": "PusIW5CBaNqo",
        "outputId": "134a4ce0-2333-4fc3-88b0-67f068763f79"
      },
      "execution_count": 5,
      "outputs": [
        {
          "output_type": "stream",
          "name": "stdout",
          "text": [
            "input : 'Alice': 85, 'Bob': 90, 'Charlie': 92 \n",
            "Student with Highest Score : Charlie\n"
          ]
        }
      ]
    },
    {
      "cell_type": "markdown",
      "source": [
        "**14. Apply Lambda to List**"
      ],
      "metadata": {
        "id": "8SnSNzLaaOCY"
      }
    },
    {
      "cell_type": "code",
      "source": [
        "def FindSquare(inputList):\n",
        "  return list(map(lambda x: x**2,inputList))\n",
        "\n",
        "print(\"input : [1, 2, 3, 4]\")\n",
        "print(\"output : \",FindSquare([1, 2, 3, 4]))\n"
      ],
      "metadata": {
        "colab": {
          "base_uri": "https://localhost:8080/"
        },
        "id": "Q0H4wNquaQGY",
        "outputId": "d6f06470-5bc7-4421-b6ec-13c825d9c947"
      },
      "execution_count": 7,
      "outputs": [
        {
          "output_type": "stream",
          "name": "stdout",
          "text": [
            "input : [1, 2, 3, 4]\n",
            "output :  [1, 4, 9, 16]\n"
          ]
        }
      ]
    },
    {
      "cell_type": "markdown",
      "source": [
        "**15. Sum or Multiply Based on Keyword Argument**"
      ],
      "metadata": {
        "id": "iWK_zewiaSTI"
      }
    },
    {
      "cell_type": "code",
      "source": [
        "def calculate(operation='add', *args):\n",
        "  res=0\n",
        "  if(operation=='add'):\n",
        "    res=0\n",
        "    for x in args:\n",
        "      res+=x\n",
        "  elif(operation=='multiply'):\n",
        "    res=1\n",
        "    for x in args:\n",
        "      res*=x\n",
        "\n",
        "  print(res)\n",
        "\n",
        "print(\"Add 1, 2, 3, 4\")\n",
        "calculate('add', 1, 2, 3, 4)\n",
        "print(\"Multiply 1, 2, 3, 4\")\n",
        "calculate('multiply', 1, 2, 3, 4)"
      ],
      "metadata": {
        "colab": {
          "base_uri": "https://localhost:8080/"
        },
        "id": "9_W0ZYWlaUXw",
        "outputId": "f372afcd-d6df-4e93-8294-1d9d39dfbbab"
      },
      "execution_count": 8,
      "outputs": [
        {
          "output_type": "stream",
          "name": "stdout",
          "text": [
            "Add 1, 2, 3, 4\n",
            "10\n",
            "Multiply 1, 2, 3, 4\n",
            "24\n"
          ]
        }
      ]
    },
    {
      "cell_type": "markdown",
      "source": [],
      "metadata": {
        "id": "qEd3ZHMIaTtY"
      }
    }
  ]
}